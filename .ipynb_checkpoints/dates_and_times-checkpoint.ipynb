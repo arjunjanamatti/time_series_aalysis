{
 "cells": [
  {
   "cell_type": "code",
   "execution_count": 1,
   "metadata": {},
   "outputs": [],
   "source": [
    "import numpy as np\n",
    "import pandas as pd"
   ]
  },
  {
   "cell_type": "markdown",
   "metadata": {},
   "source": [
    "### Generating series of times"
   ]
  },
  {
   "cell_type": "code",
   "execution_count": 2,
   "metadata": {},
   "outputs": [
    {
     "data": {
      "text/plain": [
       "DatetimeIndex(['2020-01-01 09:00:00+05:30', '2020-01-02 09:00:00+05:30',\n",
       "               '2020-01-03 09:00:00+05:30', '2020-01-06 09:00:00+05:30',\n",
       "               '2020-01-07 09:00:00+05:30', '2020-01-08 09:00:00+05:30',\n",
       "               '2020-01-09 09:00:00+05:30', '2020-01-10 09:00:00+05:30',\n",
       "               '2020-01-13 09:00:00+05:30', '2020-01-14 09:00:00+05:30',\n",
       "               ...\n",
       "               '2020-12-17 09:00:00+05:30', '2020-12-18 09:00:00+05:30',\n",
       "               '2020-12-21 09:00:00+05:30', '2020-12-22 09:00:00+05:30',\n",
       "               '2020-12-23 09:00:00+05:30', '2020-12-24 09:00:00+05:30',\n",
       "               '2020-12-25 09:00:00+05:30', '2020-12-28 09:00:00+05:30',\n",
       "               '2020-12-29 09:00:00+05:30', '2020-12-30 09:00:00+05:30'],\n",
       "              dtype='datetime64[ns, Asia/Kolkata]', length=261, freq='B')"
      ]
     },
     "execution_count": 2,
     "metadata": {},
     "output_type": "execute_result"
    }
   ],
   "source": [
    "# freuency 'MS' stands for month start\n",
    "# frequency 'B' stands for business days, only weekdays will be considered\n",
    "time_range = pd.date_range(start= '2020 Jan 01 9:00',\n",
    "                           end = '2020 Dec 31',\n",
    "                           tz = 'Asia/Kolkata',\n",
    "                           freq = 'B',)\n",
    "time_range"
   ]
  },
  {
   "cell_type": "markdown",
   "metadata": {},
   "source": [
    "### Which of these formats DON'T work?\n",
    "#'2020 Jul 1', '7/1/2020', '1/7/2020', 'July 1, 2020', '2020-07-01'"
   ]
  },
  {
   "cell_type": "code",
   "execution_count": 3,
   "metadata": {},
   "outputs": [
    {
     "data": {
      "text/plain": [
       "DatetimeIndex(['2020-07-01 00:00:00+05:30', '2020-07-02 00:00:00+05:30',\n",
       "               '2020-07-03 00:00:00+05:30', '2020-07-06 00:00:00+05:30',\n",
       "               '2020-07-07 00:00:00+05:30', '2020-07-08 00:00:00+05:30',\n",
       "               '2020-07-09 00:00:00+05:30', '2020-07-10 00:00:00+05:30',\n",
       "               '2020-07-13 00:00:00+05:30', '2020-07-14 00:00:00+05:30'],\n",
       "              dtype='datetime64[ns, Asia/Kolkata]', freq='B')"
      ]
     },
     "execution_count": 3,
     "metadata": {},
     "output_type": "execute_result"
    }
   ],
   "source": [
    "time_range_check = pd.date_range(start= '2020 Jul 1',\n",
    "                                 periods = 10,\n",
    "                                 tz = 'Asia/Kolkata',\n",
    "                                 freq = 'B',)\n",
    "time_range_check"
   ]
  },
  {
   "cell_type": "code",
   "execution_count": 4,
   "metadata": {},
   "outputs": [
    {
     "data": {
      "text/plain": [
       "DatetimeIndex(['2020-01-30 00:00:00+05:30', '2020-01-31 00:00:00+05:30',\n",
       "               '2020-02-03 00:00:00+05:30', '2020-02-04 00:00:00+05:30',\n",
       "               '2020-02-05 00:00:00+05:30', '2020-02-06 00:00:00+05:30',\n",
       "               '2020-02-07 00:00:00+05:30', '2020-02-10 00:00:00+05:30',\n",
       "               '2020-02-11 00:00:00+05:30', '2020-02-12 00:00:00+05:30'],\n",
       "              dtype='datetime64[ns, Asia/Kolkata]', freq='B')"
      ]
     },
     "execution_count": 4,
     "metadata": {},
     "output_type": "execute_result"
    }
   ],
   "source": [
    "time_range_check = pd.date_range(start= '30/1/2020',\n",
    "                                 periods = 10,\n",
    "                                 tz = 'Asia/Kolkata',\n",
    "                                 freq = 'B',)\n",
    "time_range_check"
   ]
  },
  {
   "cell_type": "code",
   "execution_count": 5,
   "metadata": {},
   "outputs": [
    {
     "data": {
      "text/plain": [
       "DatetimeIndex(['2020-01-30 00:00:00+05:30', '2020-01-31 00:00:00+05:30',\n",
       "               '2020-02-03 00:00:00+05:30', '2020-02-04 00:00:00+05:30',\n",
       "               '2020-02-05 00:00:00+05:30', '2020-02-06 00:00:00+05:30',\n",
       "               '2020-02-07 00:00:00+05:30', '2020-02-10 00:00:00+05:30',\n",
       "               '2020-02-11 00:00:00+05:30', '2020-02-12 00:00:00+05:30'],\n",
       "              dtype='datetime64[ns, Asia/Kolkata]', freq='B')"
      ]
     },
     "execution_count": 5,
     "metadata": {},
     "output_type": "execute_result"
    }
   ],
   "source": [
    "time_range_check = pd.date_range(start= '1/30/2020',\n",
    "                                 periods = 10,\n",
    "                                 tz = 'Asia/Kolkata',\n",
    "                                 freq = 'B',)\n",
    "time_range_check"
   ]
  },
  {
   "cell_type": "code",
   "execution_count": 6,
   "metadata": {},
   "outputs": [
    {
     "data": {
      "text/plain": [
       "DatetimeIndex(['2020-07-01 00:00:00+05:30', '2020-07-02 00:00:00+05:30',\n",
       "               '2020-07-03 00:00:00+05:30', '2020-07-06 00:00:00+05:30',\n",
       "               '2020-07-07 00:00:00+05:30', '2020-07-08 00:00:00+05:30',\n",
       "               '2020-07-09 00:00:00+05:30', '2020-07-10 00:00:00+05:30',\n",
       "               '2020-07-13 00:00:00+05:30', '2020-07-14 00:00:00+05:30'],\n",
       "              dtype='datetime64[ns, Asia/Kolkata]', freq='B')"
      ]
     },
     "execution_count": 6,
     "metadata": {},
     "output_type": "execute_result"
    }
   ],
   "source": [
    "time_range_check = pd.date_range(start= 'July 1, 2020',\n",
    "                                 periods = 10,\n",
    "                                 tz = 'Asia/Kolkata',\n",
    "                                 freq = 'B',)\n",
    "time_range_check"
   ]
  },
  {
   "cell_type": "code",
   "execution_count": 7,
   "metadata": {},
   "outputs": [
    {
     "data": {
      "text/plain": [
       "DatetimeIndex(['2020-07-01 00:00:00+05:30', '2020-07-02 00:00:00+05:30',\n",
       "               '2020-07-03 00:00:00+05:30', '2020-07-06 00:00:00+05:30',\n",
       "               '2020-07-07 00:00:00+05:30', '2020-07-08 00:00:00+05:30',\n",
       "               '2020-07-09 00:00:00+05:30', '2020-07-10 00:00:00+05:30',\n",
       "               '2020-07-13 00:00:00+05:30', '2020-07-14 00:00:00+05:30'],\n",
       "              dtype='datetime64[ns, Asia/Kolkata]', freq='B')"
      ]
     },
     "execution_count": 7,
     "metadata": {},
     "output_type": "execute_result"
    }
   ],
   "source": [
    "time_range_check = pd.date_range(start= '2020-07-01',\n",
    "                                 periods = 10,\n",
    "                                 tz = 'Asia/Kolkata',\n",
    "                                 freq = 'B',)\n",
    "time_range_check"
   ]
  },
  {
   "cell_type": "markdown",
   "metadata": {},
   "source": [
    "### How much detail can you add?"
   ]
  },
  {
   "cell_type": "code",
   "execution_count": 8,
   "metadata": {},
   "outputs": [
    {
     "data": {
      "text/html": [
       "<div>\n",
       "<style scoped>\n",
       "    .dataframe tbody tr th:only-of-type {\n",
       "        vertical-align: middle;\n",
       "    }\n",
       "\n",
       "    .dataframe tbody tr th {\n",
       "        vertical-align: top;\n",
       "    }\n",
       "\n",
       "    .dataframe thead th {\n",
       "        text-align: right;\n",
       "    }\n",
       "</style>\n",
       "<table border=\"1\" class=\"dataframe\">\n",
       "  <thead>\n",
       "    <tr style=\"text-align: right;\">\n",
       "      <th></th>\n",
       "      <th>Dates</th>\n",
       "      <th>Day</th>\n",
       "      <th>week_of_the_year</th>\n",
       "      <th>day_of_the_week</th>\n",
       "    </tr>\n",
       "  </thead>\n",
       "  <tbody>\n",
       "    <tr>\n",
       "      <th>0</th>\n",
       "      <td>2020-01-01 09:00:00+05:30</td>\n",
       "      <td>Wednesday</td>\n",
       "      <td>1</td>\n",
       "      <td>3</td>\n",
       "    </tr>\n",
       "    <tr>\n",
       "      <th>1</th>\n",
       "      <td>2020-01-02 09:00:00+05:30</td>\n",
       "      <td>Thursday</td>\n",
       "      <td>1</td>\n",
       "      <td>4</td>\n",
       "    </tr>\n",
       "    <tr>\n",
       "      <th>2</th>\n",
       "      <td>2020-01-03 09:00:00+05:30</td>\n",
       "      <td>Friday</td>\n",
       "      <td>1</td>\n",
       "      <td>5</td>\n",
       "    </tr>\n",
       "    <tr>\n",
       "      <th>3</th>\n",
       "      <td>2020-01-06 09:00:00+05:30</td>\n",
       "      <td>Monday</td>\n",
       "      <td>2</td>\n",
       "      <td>1</td>\n",
       "    </tr>\n",
       "    <tr>\n",
       "      <th>4</th>\n",
       "      <td>2020-01-07 09:00:00+05:30</td>\n",
       "      <td>Tuesday</td>\n",
       "      <td>2</td>\n",
       "      <td>2</td>\n",
       "    </tr>\n",
       "    <tr>\n",
       "      <th>...</th>\n",
       "      <td>...</td>\n",
       "      <td>...</td>\n",
       "      <td>...</td>\n",
       "      <td>...</td>\n",
       "    </tr>\n",
       "    <tr>\n",
       "      <th>256</th>\n",
       "      <td>2020-12-24 09:00:00+05:30</td>\n",
       "      <td>Thursday</td>\n",
       "      <td>52</td>\n",
       "      <td>4</td>\n",
       "    </tr>\n",
       "    <tr>\n",
       "      <th>257</th>\n",
       "      <td>2020-12-25 09:00:00+05:30</td>\n",
       "      <td>Friday</td>\n",
       "      <td>52</td>\n",
       "      <td>5</td>\n",
       "    </tr>\n",
       "    <tr>\n",
       "      <th>258</th>\n",
       "      <td>2020-12-28 09:00:00+05:30</td>\n",
       "      <td>Monday</td>\n",
       "      <td>53</td>\n",
       "      <td>1</td>\n",
       "    </tr>\n",
       "    <tr>\n",
       "      <th>259</th>\n",
       "      <td>2020-12-29 09:00:00+05:30</td>\n",
       "      <td>Tuesday</td>\n",
       "      <td>53</td>\n",
       "      <td>2</td>\n",
       "    </tr>\n",
       "    <tr>\n",
       "      <th>260</th>\n",
       "      <td>2020-12-30 09:00:00+05:30</td>\n",
       "      <td>Wednesday</td>\n",
       "      <td>53</td>\n",
       "      <td>3</td>\n",
       "    </tr>\n",
       "  </tbody>\n",
       "</table>\n",
       "<p>261 rows × 4 columns</p>\n",
       "</div>"
      ],
      "text/plain": [
       "                        Dates        Day  week_of_the_year  day_of_the_week\n",
       "0   2020-01-01 09:00:00+05:30  Wednesday                 1                3\n",
       "1   2020-01-02 09:00:00+05:30   Thursday                 1                4\n",
       "2   2020-01-03 09:00:00+05:30     Friday                 1                5\n",
       "3   2020-01-06 09:00:00+05:30     Monday                 2                1\n",
       "4   2020-01-07 09:00:00+05:30    Tuesday                 2                2\n",
       "..                        ...        ...               ...              ...\n",
       "256 2020-12-24 09:00:00+05:30   Thursday                52                4\n",
       "257 2020-12-25 09:00:00+05:30     Friday                52                5\n",
       "258 2020-12-28 09:00:00+05:30     Monday                53                1\n",
       "259 2020-12-29 09:00:00+05:30    Tuesday                53                2\n",
       "260 2020-12-30 09:00:00+05:30  Wednesday                53                3\n",
       "\n",
       "[261 rows x 4 columns]"
      ]
     },
     "execution_count": 8,
     "metadata": {},
     "output_type": "execute_result"
    }
   ],
   "source": [
    "day_name_series = time_range.day_name()\n",
    "week_of_the_year = time_range.weekofyear\n",
    "yesr_calendar = pd.DataFrame()\n",
    "day_of_the_week = time_range.dayofweek\n",
    "yesr_calendar['Dates'] = time_range\n",
    "yesr_calendar['Day'] = day_name_series\n",
    "yesr_calendar['week_of_the_year'] = week_of_the_year\n",
    "yesr_calendar['day_of_the_week'] = day_of_the_week + 1\n",
    "yesr_calendar"
   ]
  },
  {
   "cell_type": "markdown",
   "metadata": {},
   "source": [
    "### Time offsets"
   ]
  },
  {
   "cell_type": "code",
   "execution_count": 9,
   "metadata": {},
   "outputs": [
    {
     "data": {
      "text/plain": [
       "Timedelta('1 days 00:00:00')"
      ]
     },
     "execution_count": 9,
     "metadata": {},
     "output_type": "execute_result"
    }
   ],
   "source": [
    "pd.Timedelta('1 day')"
   ]
  },
  {
   "cell_type": "code",
   "execution_count": 10,
   "metadata": {},
   "outputs": [
    {
     "data": {
      "text/plain": [
       "Timestamp('2020-01-11 00:00:00')"
      ]
     },
     "execution_count": 10,
     "metadata": {},
     "output_type": "execute_result"
    }
   ],
   "source": [
    "pd.Timestamp('2020-01-01') + pd.Timedelta('10 days')"
   ]
  },
  {
   "cell_type": "code",
   "execution_count": 11,
   "metadata": {},
   "outputs": [
    {
     "name": "stdout",
     "output_type": "stream",
     "text": [
      "Enter the number of hours to be worked: 8\n"
     ]
    },
    {
     "data": {
      "text/html": [
       "<div>\n",
       "<style scoped>\n",
       "    .dataframe tbody tr th:only-of-type {\n",
       "        vertical-align: middle;\n",
       "    }\n",
       "\n",
       "    .dataframe tbody tr th {\n",
       "        vertical-align: top;\n",
       "    }\n",
       "\n",
       "    .dataframe thead th {\n",
       "        text-align: right;\n",
       "    }\n",
       "</style>\n",
       "<table border=\"1\" class=\"dataframe\">\n",
       "  <thead>\n",
       "    <tr style=\"text-align: right;\">\n",
       "      <th></th>\n",
       "      <th>Start</th>\n",
       "      <th>End</th>\n",
       "    </tr>\n",
       "  </thead>\n",
       "  <tbody>\n",
       "    <tr>\n",
       "      <th>0</th>\n",
       "      <td>2020-01-01 09:00:00+05:30</td>\n",
       "      <td>2020-01-01 17:00:00+05:30</td>\n",
       "    </tr>\n",
       "    <tr>\n",
       "      <th>1</th>\n",
       "      <td>2020-01-02 09:00:00+05:30</td>\n",
       "      <td>2020-01-02 17:00:00+05:30</td>\n",
       "    </tr>\n",
       "    <tr>\n",
       "      <th>2</th>\n",
       "      <td>2020-01-03 09:00:00+05:30</td>\n",
       "      <td>2020-01-03 17:00:00+05:30</td>\n",
       "    </tr>\n",
       "    <tr>\n",
       "      <th>3</th>\n",
       "      <td>2020-01-06 09:00:00+05:30</td>\n",
       "      <td>2020-01-06 17:00:00+05:30</td>\n",
       "    </tr>\n",
       "    <tr>\n",
       "      <th>4</th>\n",
       "      <td>2020-01-07 09:00:00+05:30</td>\n",
       "      <td>2020-01-07 17:00:00+05:30</td>\n",
       "    </tr>\n",
       "  </tbody>\n",
       "</table>\n",
       "</div>"
      ],
      "text/plain": [
       "                      Start                       End\n",
       "0 2020-01-01 09:00:00+05:30 2020-01-01 17:00:00+05:30\n",
       "1 2020-01-02 09:00:00+05:30 2020-01-02 17:00:00+05:30\n",
       "2 2020-01-03 09:00:00+05:30 2020-01-03 17:00:00+05:30\n",
       "3 2020-01-06 09:00:00+05:30 2020-01-06 17:00:00+05:30\n",
       "4 2020-01-07 09:00:00+05:30 2020-01-07 17:00:00+05:30"
      ]
     },
     "execution_count": 11,
     "metadata": {},
     "output_type": "execute_result"
    }
   ],
   "source": [
    "number_of_hours_worked = input('Enter the number of hours to be worked: ')\n",
    "working_hour_timings = pd.DataFrame()\n",
    "working_hour_timings['Start'] = time_range\n",
    "working_hour_timings['End'] = time_range + pd.Timedelta(number_of_hours_worked+'hours')\n",
    "working_hour_timings.head()"
   ]
  },
  {
   "cell_type": "markdown",
   "metadata": {},
   "source": [
    "### timestamp data to periods data"
   ]
  },
  {
   "cell_type": "code",
   "execution_count": 12,
   "metadata": {},
   "outputs": [
    {
     "data": {
      "text/plain": [
       "2020-01-01 08:15:00    0\n",
       "2020-01-01 09:15:00    1\n",
       "2020-01-01 10:15:00    2\n",
       "2020-01-01 11:15:00    3\n",
       "2020-01-01 12:15:00    4\n",
       "Freq: H, dtype: int64"
      ]
     },
     "execution_count": 12,
     "metadata": {},
     "output_type": "execute_result"
    }
   ],
   "source": [
    "ts = pd.Series(range(50), pd.date_range('01-01-2020 8:15', periods = 50, freq = 'H'))\n",
    "ts.head()"
   ]
  },
  {
   "cell_type": "code",
   "execution_count": 13,
   "metadata": {},
   "outputs": [
    {
     "name": "stdout",
     "output_type": "stream",
     "text": [
      "<class 'pandas.core.indexes.datetimes.DatetimeIndex'>\n",
      "<class 'pandas._libs.tslibs.timestamps.Timestamp'>\n"
     ]
    }
   ],
   "source": [
    "print(type(ts.index))\n",
    "print(type(ts.index[0]))"
   ]
  },
  {
   "cell_type": "code",
   "execution_count": 14,
   "metadata": {},
   "outputs": [
    {
     "data": {
      "text/plain": [
       "2020-01-01 08:15    0\n",
       "2020-01-01 09:15    1\n",
       "2020-01-01 10:15    2\n",
       "2020-01-01 11:15    3\n",
       "2020-01-01 12:15    4\n",
       "Freq: 60T, dtype: int64"
      ]
     },
     "execution_count": 14,
     "metadata": {},
     "output_type": "execute_result"
    }
   ],
   "source": [
    "ts_period = ts.to_period(freq = '60T' )\n",
    "ts_period.head()"
   ]
  },
  {
   "cell_type": "markdown",
   "metadata": {},
   "source": [
    "* when looking for string matching in periods, it will look for overlapping, however for timestamping it will only look for particular match"
   ]
  },
  {
   "cell_type": "code",
   "execution_count": 15,
   "metadata": {},
   "outputs": [
    {
     "data": {
      "text/plain": [
       "2020-01-01 09:15    1\n",
       "2020-01-01 10:15    2\n",
       "Freq: 60T, dtype: int64"
      ]
     },
     "execution_count": 15,
     "metadata": {},
     "output_type": "execute_result"
    }
   ],
   "source": [
    "ts_period['01-01-2020 09']"
   ]
  },
  {
   "cell_type": "code",
   "execution_count": 16,
   "metadata": {},
   "outputs": [
    {
     "data": {
      "text/plain": [
       "2020-01-01 09:15:00    1\n",
       "Freq: H, dtype: int64"
      ]
     },
     "execution_count": 16,
     "metadata": {},
     "output_type": "execute_result"
    }
   ],
   "source": [
    "ts['01-01-2020 09']"
   ]
  },
  {
   "cell_type": "markdown",
   "metadata": {},
   "source": [
    "### grab everything between index dates"
   ]
  },
  {
   "cell_type": "code",
   "execution_count": 17,
   "metadata": {},
   "outputs": [
    {
     "data": {
      "text/plain": [
       "2020-01-01 08:15:00     0\n",
       "2020-01-01 09:15:00     1\n",
       "2020-01-01 10:15:00     2\n",
       "2020-01-01 11:15:00     3\n",
       "2020-01-01 12:15:00     4\n",
       "2020-01-01 13:15:00     5\n",
       "2020-01-01 14:15:00     6\n",
       "2020-01-01 15:15:00     7\n",
       "2020-01-01 16:15:00     8\n",
       "2020-01-01 17:15:00     9\n",
       "2020-01-01 18:15:00    10\n",
       "2020-01-01 19:15:00    11\n",
       "2020-01-01 20:15:00    12\n",
       "2020-01-01 21:15:00    13\n",
       "2020-01-01 22:15:00    14\n",
       "2020-01-01 23:15:00    15\n",
       "2020-01-02 00:15:00    16\n",
       "2020-01-02 01:15:00    17\n",
       "2020-01-02 02:15:00    18\n",
       "2020-01-02 03:15:00    19\n",
       "2020-01-02 04:15:00    20\n",
       "2020-01-02 05:15:00    21\n",
       "2020-01-02 06:15:00    22\n",
       "2020-01-02 07:15:00    23\n",
       "2020-01-02 08:15:00    24\n",
       "2020-01-02 09:15:00    25\n",
       "2020-01-02 10:15:00    26\n",
       "2020-01-02 11:15:00    27\n",
       "2020-01-02 12:15:00    28\n",
       "2020-01-02 13:15:00    29\n",
       "2020-01-02 14:15:00    30\n",
       "2020-01-02 15:15:00    31\n",
       "2020-01-02 16:15:00    32\n",
       "2020-01-02 17:15:00    33\n",
       "2020-01-02 18:15:00    34\n",
       "2020-01-02 19:15:00    35\n",
       "2020-01-02 20:15:00    36\n",
       "2020-01-02 21:15:00    37\n",
       "2020-01-02 22:15:00    38\n",
       "2020-01-02 23:15:00    39\n",
       "Freq: H, dtype: int64"
      ]
     },
     "execution_count": 17,
     "metadata": {},
     "output_type": "execute_result"
    }
   ],
   "source": [
    "ts['01-01-2020':'01-02-2020']"
   ]
  },
  {
   "cell_type": "code",
   "execution_count": 18,
   "metadata": {},
   "outputs": [
    {
     "data": {
      "text/plain": [
       "2020-01-02 00:15:00    16\n",
       "2020-01-02 01:15:00    17\n",
       "2020-01-02 02:15:00    18\n",
       "2020-01-02 03:15:00    19\n",
       "2020-01-02 04:15:00    20\n",
       "2020-01-02 05:15:00    21\n",
       "2020-01-02 06:15:00    22\n",
       "2020-01-02 07:15:00    23\n",
       "2020-01-02 08:15:00    24\n",
       "2020-01-02 09:15:00    25\n",
       "2020-01-02 10:15:00    26\n",
       "2020-01-02 11:15:00    27\n",
       "2020-01-02 12:15:00    28\n",
       "2020-01-02 13:15:00    29\n",
       "2020-01-02 14:15:00    30\n",
       "2020-01-02 15:15:00    31\n",
       "2020-01-02 16:15:00    32\n",
       "2020-01-02 17:15:00    33\n",
       "2020-01-02 18:15:00    34\n",
       "2020-01-02 19:15:00    35\n",
       "2020-01-02 20:15:00    36\n",
       "2020-01-02 21:15:00    37\n",
       "2020-01-02 22:15:00    38\n",
       "2020-01-02 23:15:00    39\n",
       "2020-01-03 00:15:00    40\n",
       "2020-01-03 01:15:00    41\n",
       "2020-01-03 02:15:00    42\n",
       "2020-01-03 03:15:00    43\n",
       "2020-01-03 04:15:00    44\n",
       "2020-01-03 05:15:00    45\n",
       "2020-01-03 06:15:00    46\n",
       "2020-01-03 07:15:00    47\n",
       "2020-01-03 08:15:00    48\n",
       "2020-01-03 09:15:00    49\n",
       "Freq: H, dtype: int64"
      ]
     },
     "execution_count": 18,
     "metadata": {},
     "output_type": "execute_result"
    }
   ],
   "source": [
    "ts['01-02-2020':]"
   ]
  },
  {
   "cell_type": "markdown",
   "metadata": {},
   "source": [
    "* How can we create a pd.Timestamp with a European style formatted date string? in particular we want 04 March 206 presented in Euro style and converted to timestampe"
   ]
  },
  {
   "cell_type": "code",
   "execution_count": 19,
   "metadata": {},
   "outputs": [
    {
     "name": "stdout",
     "output_type": "stream",
     "text": [
      "2020-03-01 00:00:00\n",
      "Day: 1, Month: 3, year:2020 \n"
     ]
    }
   ],
   "source": [
    "print(pd.to_datetime(arg = '01 Mar 2020'))\n",
    "print('Day: {}, Month: {}, year:{} '.format((pd.to_datetime(arg = '01 Mar 2020')).day,\n",
    "                                            (pd.to_datetime(arg = '01 Mar 2020')).month,\n",
    "                                            (pd.to_datetime(arg = '01 Mar 2020')).year))"
   ]
  },
  {
   "cell_type": "code",
   "execution_count": 20,
   "metadata": {},
   "outputs": [
    {
     "name": "stdout",
     "output_type": "stream",
     "text": [
      "2020-01-03 00:00:00\n",
      "Day: 3, Month: 1, year:2020 \n"
     ]
    }
   ],
   "source": [
    "# (pd.to_datetime(arg = '01/03/2020')).day\n",
    "print(pd.to_datetime(arg = '01/03/2020'))\n",
    "print('Day: {}, Month: {}, year:{} '.format((pd.to_datetime(arg = '01/03/2020')).day,\n",
    "                                            (pd.to_datetime(arg = '01/03/2020')).month,\n",
    "                                            (pd.to_datetime(arg = '01/03/2020')).year))"
   ]
  },
  {
   "cell_type": "code",
   "execution_count": 21,
   "metadata": {},
   "outputs": [
    {
     "name": "stdout",
     "output_type": "stream",
     "text": [
      "2020-03-01 00:00:00\n",
      "Day: 1, Month: 3, year:2020 \n"
     ]
    }
   ],
   "source": [
    "print(pd.to_datetime(arg = '01/03/2020', dayfirst = True))\n",
    "print('Day: {}, Month: {}, year:{} '.format((pd.to_datetime(arg = '01/03/2020', dayfirst = True)).day,\n",
    "                                            (pd.to_datetime(arg = '01/03/2020', dayfirst = True)).month,\n",
    "                                            (pd.to_datetime(arg = '01/03/2020', dayfirst = True)).year))"
   ]
  },
  {
   "cell_type": "markdown",
   "metadata": {},
   "source": [
    "* How can we generate the string representation in a desired format from a pd.Timestamp, for example we want to extract a string'2020' from the pd.Timestamp('01 March 2020')"
   ]
  },
  {
   "cell_type": "code",
   "execution_count": 22,
   "metadata": {},
   "outputs": [
    {
     "data": {
      "text/plain": [
       "'2020'"
      ]
     },
     "execution_count": 22,
     "metadata": {},
     "output_type": "execute_result"
    }
   ],
   "source": [
    "str(pd.Timestamp('01 March 2020').year)"
   ]
  },
  {
   "cell_type": "code",
   "execution_count": 23,
   "metadata": {},
   "outputs": [
    {
     "data": {
      "text/plain": [
       "['2020',\n",
       " '2020',\n",
       " '2020',\n",
       " '2020',\n",
       " '2020',\n",
       " '2020',\n",
       " '2020',\n",
       " '2020',\n",
       " '2020',\n",
       " '2020',\n",
       " '2020',\n",
       " '2020',\n",
       " '2020',\n",
       " '2020',\n",
       " '2020',\n",
       " '2020',\n",
       " '2020',\n",
       " '2020',\n",
       " '2020',\n",
       " '2020',\n",
       " '2020',\n",
       " '2020',\n",
       " '2020',\n",
       " '2020',\n",
       " '2020',\n",
       " '2020',\n",
       " '2020',\n",
       " '2020',\n",
       " '2020',\n",
       " '2020',\n",
       " '2020',\n",
       " '2020',\n",
       " '2020',\n",
       " '2020',\n",
       " '2020',\n",
       " '2020',\n",
       " '2020',\n",
       " '2020',\n",
       " '2020',\n",
       " '2020',\n",
       " '2020',\n",
       " '2020',\n",
       " '2020',\n",
       " '2020',\n",
       " '2020',\n",
       " '2020',\n",
       " '2020',\n",
       " '2020',\n",
       " '2020',\n",
       " '2020',\n",
       " '2020',\n",
       " '2020',\n",
       " '2020',\n",
       " '2020',\n",
       " '2020',\n",
       " '2020',\n",
       " '2020',\n",
       " '2020',\n",
       " '2020',\n",
       " '2020',\n",
       " '2020',\n",
       " '2020',\n",
       " '2020',\n",
       " '2020',\n",
       " '2020',\n",
       " '2020',\n",
       " '2020',\n",
       " '2020',\n",
       " '2020',\n",
       " '2020',\n",
       " '2020',\n",
       " '2020',\n",
       " '2020',\n",
       " '2020',\n",
       " '2020',\n",
       " '2020',\n",
       " '2020',\n",
       " '2020',\n",
       " '2020',\n",
       " '2020',\n",
       " '2020',\n",
       " '2020',\n",
       " '2020',\n",
       " '2020',\n",
       " '2020',\n",
       " '2020',\n",
       " '2020',\n",
       " '2020',\n",
       " '2020',\n",
       " '2020',\n",
       " '2020',\n",
       " '2020',\n",
       " '2020',\n",
       " '2020',\n",
       " '2020',\n",
       " '2020',\n",
       " '2020',\n",
       " '2020',\n",
       " '2020',\n",
       " '2020',\n",
       " '2020',\n",
       " '2020',\n",
       " '2020',\n",
       " '2020',\n",
       " '2020',\n",
       " '2020',\n",
       " '2020',\n",
       " '2020',\n",
       " '2020',\n",
       " '2020',\n",
       " '2020',\n",
       " '2020',\n",
       " '2020',\n",
       " '2020',\n",
       " '2020',\n",
       " '2020',\n",
       " '2020',\n",
       " '2020',\n",
       " '2020',\n",
       " '2020',\n",
       " '2020',\n",
       " '2020',\n",
       " '2020',\n",
       " '2020',\n",
       " '2020',\n",
       " '2020',\n",
       " '2020',\n",
       " '2020',\n",
       " '2020',\n",
       " '2020',\n",
       " '2020',\n",
       " '2020',\n",
       " '2020',\n",
       " '2020',\n",
       " '2020',\n",
       " '2020',\n",
       " '2020',\n",
       " '2020',\n",
       " '2020',\n",
       " '2020',\n",
       " '2020',\n",
       " '2020',\n",
       " '2020',\n",
       " '2020',\n",
       " '2020',\n",
       " '2020',\n",
       " '2020',\n",
       " '2020',\n",
       " '2020',\n",
       " '2020',\n",
       " '2020',\n",
       " '2020',\n",
       " '2020',\n",
       " '2020',\n",
       " '2020',\n",
       " '2020',\n",
       " '2020',\n",
       " '2020',\n",
       " '2020',\n",
       " '2020',\n",
       " '2020',\n",
       " '2020',\n",
       " '2020',\n",
       " '2020',\n",
       " '2020',\n",
       " '2020',\n",
       " '2020',\n",
       " '2020',\n",
       " '2020',\n",
       " '2020',\n",
       " '2020',\n",
       " '2020',\n",
       " '2020',\n",
       " '2020',\n",
       " '2020',\n",
       " '2020',\n",
       " '2020',\n",
       " '2020',\n",
       " '2020',\n",
       " '2020',\n",
       " '2020',\n",
       " '2020',\n",
       " '2020',\n",
       " '2020',\n",
       " '2020',\n",
       " '2020',\n",
       " '2020',\n",
       " '2020',\n",
       " '2020',\n",
       " '2020',\n",
       " '2020',\n",
       " '2020',\n",
       " '2020',\n",
       " '2020',\n",
       " '2020',\n",
       " '2020',\n",
       " '2020',\n",
       " '2020',\n",
       " '2020',\n",
       " '2020',\n",
       " '2020',\n",
       " '2020',\n",
       " '2020',\n",
       " '2020',\n",
       " '2020',\n",
       " '2020',\n",
       " '2020',\n",
       " '2020',\n",
       " '2020',\n",
       " '2020',\n",
       " '2020',\n",
       " '2020',\n",
       " '2020',\n",
       " '2020',\n",
       " '2020',\n",
       " '2020',\n",
       " '2020',\n",
       " '2020',\n",
       " '2020',\n",
       " '2020',\n",
       " '2020',\n",
       " '2020',\n",
       " '2020',\n",
       " '2020',\n",
       " '2020',\n",
       " '2020',\n",
       " '2020',\n",
       " '2020',\n",
       " '2020',\n",
       " '2020',\n",
       " '2020',\n",
       " '2020',\n",
       " '2020',\n",
       " '2020',\n",
       " '2020',\n",
       " '2020',\n",
       " '2020',\n",
       " '2020',\n",
       " '2020',\n",
       " '2020',\n",
       " '2020',\n",
       " '2020',\n",
       " '2020',\n",
       " '2020',\n",
       " '2020',\n",
       " '2020',\n",
       " '2020',\n",
       " '2020',\n",
       " '2020',\n",
       " '2020',\n",
       " '2020',\n",
       " '2020',\n",
       " '2020',\n",
       " '2020',\n",
       " '2020',\n",
       " '2020',\n",
       " '2020',\n",
       " '2020',\n",
       " '2020',\n",
       " '2020',\n",
       " '2020']"
      ]
     },
     "execution_count": 23,
     "metadata": {},
     "output_type": "execute_result"
    }
   ],
   "source": [
    "[str(num.year) for num in time_range]"
   ]
  },
  {
   "cell_type": "markdown",
   "metadata": {},
   "source": [
    "### More neat indexing"
   ]
  },
  {
   "cell_type": "markdown",
   "metadata": {},
   "source": [
    "* numbers[start : end : step]"
   ]
  },
  {
   "cell_type": "code",
   "execution_count": 24,
   "metadata": {},
   "outputs": [
    {
     "data": {
      "text/plain": [
       "[10, 8, 6, 4, 2, 0]"
      ]
     },
     "execution_count": 24,
     "metadata": {},
     "output_type": "execute_result"
    }
   ],
   "source": [
    "numbers = list(range(11))\n",
    "numbers[len(numbers)::-2]"
   ]
  },
  {
   "cell_type": "code",
   "execution_count": 25,
   "metadata": {},
   "outputs": [
    {
     "data": {
      "text/plain": [
       "2020-01-01 08:15     0\n",
       "2020-01-01 18:15    10\n",
       "2020-01-02 04:15    20\n",
       "2020-01-02 14:15    30\n",
       "2020-01-03 00:15    40\n",
       "Freq: 60T, dtype: int64"
      ]
     },
     "execution_count": 25,
     "metadata": {},
     "output_type": "execute_result"
    }
   ],
   "source": [
    "ts_period['01-01-2020'::10]"
   ]
  },
  {
   "cell_type": "code",
   "execution_count": 26,
   "metadata": {},
   "outputs": [
    {
     "data": {
      "text/plain": [
       "2020-01-01 08:15     0\n",
       "2020-01-01 18:15    10\n",
       "2020-01-02 04:15    20\n",
       "2020-01-02 14:15    30\n",
       "2020-01-03 00:15    40\n",
       "Freq: 60T, dtype: int64"
      ]
     },
     "execution_count": 26,
     "metadata": {},
     "output_type": "execute_result"
    }
   ],
   "source": [
    "ts_period[pd.Period('01 Jan 2020', freq = '60T')::10]"
   ]
  }
 ],
 "metadata": {
  "kernelspec": {
   "display_name": "Python 3",
   "language": "python",
   "name": "python3"
  },
  "language_info": {
   "codemirror_mode": {
    "name": "ipython",
    "version": 3
   },
   "file_extension": ".py",
   "mimetype": "text/x-python",
   "name": "python",
   "nbconvert_exporter": "python",
   "pygments_lexer": "ipython3",
   "version": "3.7.6"
  }
 },
 "nbformat": 4,
 "nbformat_minor": 4
}
