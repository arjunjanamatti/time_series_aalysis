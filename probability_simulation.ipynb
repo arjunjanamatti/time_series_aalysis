{
 "cells": [
  {
   "cell_type": "markdown",
   "metadata": {},
   "source": [
    "### Probability\n",
    "* Probability is day to day life is like money assigned on a number line.\n",
    "* If we are given 100 dollars, how would we assign the hundred dollars to points on the number line, if we are doing discrete things or how would you draw a curve that would say assign how we would distribute money to number line\n",
    "* Essentially it is a measure of how much we are willing to bet that this thing will take on a particular value for a thing we are interested in\n",
    "* Example if we are a marketing or new tech firm, we wanted to know about Click Through Rate (CTR), it basically a user comes to the page and clicks in the web page."
   ]
  },
  {
   "cell_type": "markdown",
   "metadata": {},
   "source": [
    "### Simulating probabilities\n",
    "* if the website has a CTR of 50%, i.e., 50% of people click through. If we picked 1000 people at random from population, how likely would it be to find that a certain number of people click?"
   ]
  },
  {
   "cell_type": "code",
   "execution_count": 3,
   "metadata": {},
   "outputs": [],
   "source": [
    "import numpy as np\n",
    "import pandas as pd\n",
    "import seaborn as sns\n",
    "import matplotlib.pyplot as plt"
   ]
  },
  {
   "cell_type": "markdown",
   "metadata": {},
   "source": [
    "* we will take a uniform distrubted population and we will simulate the process of clicking by selecting 1000 random numbers between 0 to 1000 numbers and cutting the threshold somewhere at 50%."
   ]
  },
  {
   "cell_type": "code",
   "execution_count": 9,
   "metadata": {},
   "outputs": [
    {
     "data": {
      "text/plain": [
       "(array([109., 109.,  91.,  86.,  92.,  83., 101., 107., 108., 114.]),\n",
       " array([0.00207975, 0.10181029, 0.20154082, 0.30127136, 0.40100189,\n",
       "        0.50073243, 0.60046296, 0.7001935 , 0.79992403, 0.89965457,\n",
       "        0.9993851 ]),\n",
       " <a list of 10 Patch objects>)"
      ]
     },
     "execution_count": 9,
     "metadata": {},
     "output_type": "execute_result"
    },
    {
     "data": {
      "image/png": "[encoded data removed]",
      "text/plain": [
       "<Figure size 432x288 with 1 Axes>"
      ]
     },
     "metadata": {
      "needs_background": "light"
     },
     "output_type": "display_data"
    }
   ],
   "source": [
    "# random 1000 samples uniformally distributed between 0 and 1\n",
    "x = np.random.rand(1000)\n",
    "plt.hist(x)"
   ]
  },
  {
   "cell_type": "markdown",
   "metadata": {},
   "source": [
    "* now we check from uniformly distributed if it less than or equal to 0.5, then it was clicked, otherwise user did not click"
   ]
  },
  {
   "cell_type": "code",
   "execution_count": 20,
   "metadata": {},
   "outputs": [
    {
     "name": "stdout",
     "output_type": "stream",
     "text": [
      "Number of clicks: 487 out of uniformly distributed 1000 samples.\n"
     ]
    }
   ],
   "source": [
    "clicks = x[x <= 0.5]\n",
    "number_of_clicks = len(clicks)\n",
    "print('Number of clicks: {} out of uniformly distributed 1000 samples.'.format(number_of_clicks))"
   ]
  },
  {
   "cell_type": "markdown",
   "metadata": {},
   "source": [
    "#### Change in click through rate to 70%"
   ]
  },
  {
   "cell_type": "code",
   "execution_count": 23,
   "metadata": {},
   "outputs": [
    {
     "name": "stdout",
     "output_type": "stream",
     "text": [
      "Number of clicks: 671 out of uniformly distributed 1000 samples.\n",
      "Proportion of people who clicked 0.671\n"
     ]
    }
   ],
   "source": [
    "clicks = x[x <= 0.7]\n",
    "number_of_clicks = len(clicks)\n",
    "print('Number of clicks: {} out of uniformly distributed 1000 samples.'.format(number_of_clicks))\n",
    "print('Proportion of people who clicked {}'.format(number_of_clicks / len(x)))"
   ]
  },
  {
   "cell_type": "markdown",
   "metadata": {},
   "source": [
    "* This model simulated by hand is known as 'bias coin flip'"
   ]
  },
  {
   "cell_type": "markdown",
   "metadata": {},
   "source": [
    "### Galapagos finch beaks\n",
    "* Simulation on the real world data"
   ]
  },
  {
   "cell_type": "code",
   "execution_count": 26,
   "metadata": {},
   "outputs": [
    {
     "name": "stdout",
     "output_type": "stream",
     "text": [
      "Shape of the dataframe:  (249, 4)\n"
     ]
    },
    {
     "data": {
      "text/html": [
       "<div>\n",
       "<style scoped>\n",
       "    .dataframe tbody tr th:only-of-type {\n",
       "        vertical-align: middle;\n",
       "    }\n",
       "\n",
       "    .dataframe tbody tr th {\n",
       "        vertical-align: top;\n",
       "    }\n",
       "\n",
       "    .dataframe thead th {\n",
       "        text-align: right;\n",
       "    }\n",
       "</style>\n",
       "<table border=\"1\" class=\"dataframe\">\n",
       "  <thead>\n",
       "    <tr style=\"text-align: right;\">\n",
       "      <th></th>\n",
       "      <th>band</th>\n",
       "      <th>species</th>\n",
       "      <th>blength</th>\n",
       "      <th>bdepth</th>\n",
       "    </tr>\n",
       "  </thead>\n",
       "  <tbody>\n",
       "    <tr>\n",
       "      <th>0</th>\n",
       "      <td>19022</td>\n",
       "      <td>fortis</td>\n",
       "      <td>10.0</td>\n",
       "      <td>8.5</td>\n",
       "    </tr>\n",
       "    <tr>\n",
       "      <th>1</th>\n",
       "      <td>19028</td>\n",
       "      <td>fortis</td>\n",
       "      <td>12.5</td>\n",
       "      <td>8.9</td>\n",
       "    </tr>\n",
       "    <tr>\n",
       "      <th>2</th>\n",
       "      <td>19032</td>\n",
       "      <td>fortis</td>\n",
       "      <td>9.3</td>\n",
       "      <td>7.5</td>\n",
       "    </tr>\n",
       "    <tr>\n",
       "      <th>3</th>\n",
       "      <td>19041</td>\n",
       "      <td>fortis</td>\n",
       "      <td>10.3</td>\n",
       "      <td>9.6</td>\n",
       "    </tr>\n",
       "    <tr>\n",
       "      <th>4</th>\n",
       "      <td>19044</td>\n",
       "      <td>fortis</td>\n",
       "      <td>11.0</td>\n",
       "      <td>9.2</td>\n",
       "    </tr>\n",
       "  </tbody>\n",
       "</table>\n",
       "</div>"
      ],
      "text/plain": [
       "    band species  blength  bdepth\n",
       "0  19022  fortis     10.0     8.5\n",
       "1  19028  fortis     12.5     8.9\n",
       "2  19032  fortis      9.3     7.5\n",
       "3  19041  fortis     10.3     9.6\n",
       "4  19044  fortis     11.0     9.2"
      ]
     },
     "execution_count": 26,
     "metadata": {},
     "output_type": "execute_result"
    }
   ],
   "source": [
    "df_12 = pd.read_csv('finch_beaks_2012.txt')\n",
    "print('Shape of the dataframe: ', df_12.shape)\n",
    "df_12.head()"
   ]
  },
  {
   "cell_type": "code",
   "execution_count": 27,
   "metadata": {},
   "outputs": [],
   "source": [
    "# store lengths in a pandas series\n",
    "beak_length = df_12['blength']"
   ]
  },
  {
   "cell_type": "markdown",
   "metadata": {},
   "source": [
    "* What is the probability of a bird beak length greater than 10?"
   ]
  },
  {
   "cell_type": "code",
   "execution_count": 36,
   "metadata": {},
   "outputs": [
    {
     "name": "stdout",
     "output_type": "stream",
     "text": [
      "Number of birds with beak length greater than 10: 212\n",
      "Proportion of birds with beak length greater than 10 is :0.851\n"
     ]
    }
   ],
   "source": [
    "len_great_than_10 = beak_length[beak_length > 10]\n",
    "num_len_great_than_10 = len(len_great_than_10)\n",
    "print('Number of birds with beak length greater than 10: {}'.format(num_len_great_than_10))\n",
    "print('Proportion of birds with beak length greater than 10 is :{}'.format(round((num_len_great_than_10 / len(beak_length)), 3)))"
   ]
  },
  {
   "cell_type": "markdown",
   "metadata": {},
   "source": [
    "#### Simulation of finch beak lengths\n",
    "* Will draw random samples from data and use that as a way to estimate uncertaininty over the probability would be\n",
    "* If we break the assumption that data is exactly representing the population, then we the results from this data do not represent the results from the population."
   ]
  },
  {
   "cell_type": "code",
   "execution_count": 40,
   "metadata": {},
   "outputs": [
    {
     "name": "stdout",
     "output_type": "stream",
     "text": [
      "Proportion of birds with beak length greater than 10 is :0.845\n"
     ]
    }
   ],
   "source": [
    "n_samples = 10000\n",
    "simulated_data = np.random.choice(a = beak_length, size = n_samples, replace = True)\n",
    "num_simulated_data = len(simulated_data[simulated_data > 10])\n",
    "print('Proportion of birds with beak length greater than 10 is :{}'.format(round((num_simulated_data / len(simulated_data)), 3)))"
   ]
  },
  {
   "cell_type": "markdown",
   "metadata": {},
   "source": [
    "* Coin flips are basically berneuolli trials, every coin flip will have single outcome and can be one of the two possible outcomes which is binary\n",
    "* If we sum up berneuolli trials, we get binomial distribution "
   ]
  },
  {
   "cell_type": "code",
   "execution_count": 41,
   "metadata": {},
   "outputs": [],
   "source": [
    "# set random seet\n",
    "np.random.seed(42)"
   ]
  },
  {
   "cell_type": "code",
   "execution_count": 47,
   "metadata": {},
   "outputs": [
    {
     "data": {
      "text/plain": [
       "1"
      ]
     },
     "execution_count": 47,
     "metadata": {},
     "output_type": "execute_result"
    }
   ],
   "source": [
    "# simulate a single flip with bias 0.7 times\n",
    "np.random.binomial(n = 1, p = 0.7)"
   ]
  },
  {
   "cell_type": "markdown",
   "metadata": {},
   "source": [
    "* In the binomial trial, we are interested in calculating the probability knowing the probability of getting upto that number of successes for that run\n",
    "* In the above simulation is done once, it is for one potential outcome.\n",
    "* Now we will simulate the process of flipping the coin 10 times for 10000 times and counting the number of times we got head in each particular experiment"
   ]
  },
  {
   "cell_type": "code",
   "execution_count": 58,
   "metadata": {},
   "outputs": [
    {
     "data": {
      "text/plain": [
       "(array([2.22222222e-04, 8.88888889e-04, 1.10000000e-02, 4.05555556e-02,\n",
       "        1.18777778e-01, 2.18555556e-01, 3.01555556e-01, 2.63000000e-01,\n",
       "        1.26777778e-01, 2.97777778e-02]),\n",
       " array([ 1. ,  1.9,  2.8,  3.7,  4.6,  5.5,  6.4,  7.3,  8.2,  9.1, 10. ]),\n",
       " <a list of 10 Patch objects>)"
      ]
     },
     "execution_count": 58,
     "metadata": {},
     "output_type": "execute_result"
    },
    {
     "data": {
      "image/png": "[encoded data removed]",
      "text/plain": [
       "<Figure size 432x288 with 1 Axes>"
      ]
     },
     "metadata": {
      "needs_background": "light"
     },
     "output_type": "display_data"
    }
   ],
   "source": [
    "# simulate 10000 run of flipping the biased coin 10 times\n",
    "x = np.random.binomial(n = 10, p = 0.7, size = 10_000)\n",
    "\n",
    "#plot normalized histogram of results\n",
    "plt.hist(x, density = True, bins = 10)"
   ]
  },
  {
   "cell_type": "markdown",
   "metadata": {},
   "source": [
    "* most probable value is 7, since we have set p = 0.7, the most expected value is 0.7\n",
    "* Still not enough to see that proportion of trials that we get 1 head only out of 10"
   ]
  },
  {
   "cell_type": "markdown",
   "metadata": {},
   "source": [
    "* If I flip a biased coin (P(H) = 0.3) 20 times, what is the probability of 5 or more heads?"
   ]
  },
  {
   "cell_type": "code",
   "execution_count": 72,
   "metadata": {},
   "outputs": [
    {
     "data": {
      "text/plain": [
       "0.58225"
      ]
     },
     "execution_count": 72,
     "metadata": {},
     "output_type": "execute_result"
    }
   ],
   "source": [
    "# calculating the probability of 5 or more heads for p = 0.3\n",
    "num = np.random.binomial(n = 20, p = 0.3, size = 10_0000)\n",
    "num_more_than_5 = num[num > 5]\n",
    "len(num_more_than_5) / 10_0000"
   ]
  },
  {
   "cell_type": "markdown",
   "metadata": {},
   "source": [
    "* If I flip a fair coin (P(H) = 0.5) 20 times, what is the probability of 5 or more heads?"
   ]
  },
  {
   "cell_type": "code",
   "execution_count": 77,
   "metadata": {},
   "outputs": [
    {
     "data": {
      "text/plain": [
       "0.97932"
      ]
     },
     "execution_count": 77,
     "metadata": {},
     "output_type": "execute_result"
    }
   ],
   "source": [
    "# calculating the probability of 5 or more heads for p = 0.5\n",
    "num = np.random.binomial(n = 20, p = 0.5, size = 10_0000)\n",
    "num_more_than_5 = num[num > 5]\n",
    "len(num_more_than_5) / 10_0000"
   ]
  },
  {
   "cell_type": "markdown",
   "metadata": {},
   "source": [
    "* Plot histogram for flipping the fair coin 10 times"
   ]
  },
  {
   "cell_type": "code",
   "execution_count": 89,
   "metadata": {},
   "outputs": [
    {
     "data": {
      "text/plain": [
       "(array([0.0015, 0.0104, 0.0423, 0.117 , 0.2107, 0.2514, 0.1976, 0.1156,\n",
       "        0.0411, 0.0124]),\n",
       " array([ 0.,  1.,  2.,  3.,  4.,  5.,  6.,  7.,  8.,  9., 10.]),\n",
       " <a list of 10 Patch objects>)"
      ]
     },
     "execution_count": 89,
     "metadata": {},
     "output_type": "execute_result"
    },
    {
     "data": {
      "image/png": "[encoded data removed]",
      "text/plain": [
       "<Figure size 432x288 with 1 Axes>"
      ]
     },
     "metadata": {
      "needs_background": "light"
     },
     "output_type": "display_data"
    }
   ],
   "source": [
    "num = np.random.binomial(n = 10, p = 0.5, size = 10_000)\n",
    "\n",
    "plt.hist(x = num, density = True, bins = 10)"
   ]
  },
  {
   "cell_type": "markdown",
   "metadata": {},
   "source": [
    "### Emperical cumulative distribution functions (ECDFs)\n",
    "* This gives much richer information that a histogram, the histogram is nice and convinient to look at, since it sort of tells us the central tendency, but thats all it really tells.\n",
    "* In ECDF the x-axis is the range of possible values for the data and for any given x-value, the corresponding y-value is the proportion of data points less than or equal to that x-value"
   ]
  },
  {
   "cell_type": "code",
   "execution_count": 78,
   "metadata": {},
   "outputs": [],
   "source": [
    "def ecdf(data):\n",
    "    '''function computes ECDF for a one-dimensional array of measurements'''\n",
    "#      Number of data points\n",
    "    n = len(data)\n",
    "    \n",
    "    # x-data for the ECDF\n",
    "    x = np.sort(data)\n",
    "    \n",
    "    # y-data for ECDF\n",
    "    y = np.arange(1, n+1)/n\n",
    "    \n",
    "    return x, y"
   ]
  },
  {
   "cell_type": "code",
   "execution_count": 90,
   "metadata": {},
   "outputs": [
    {
     "data": {
      "text/plain": [
       "[<matplotlib.lines.Line2D at 0x7f21d90efa10>]"
      ]
     },
     "execution_count": 90,
     "metadata": {},
     "output_type": "execute_result"
    },
    {
     "data": {
      "image/png": "[encoded data removed]",
      "text/plain": [
       "<Figure size 432x288 with 1 Axes>"
      ]
     },
     "metadata": {
      "needs_background": "light"
     },
     "output_type": "display_data"
    }
   ],
   "source": [
    "# generating x and y data for ECDF\n",
    "x_flips, y_flips= ecdf(num)\n",
    "\n",
    "# plot the ecdf\n",
    "plt.plot(x_flips, y_flips, marker = '.', linestyle = 'none')"
   ]
  },
  {
   "cell_type": "markdown",
   "metadata": {},
   "source": [
    "* In the above plot, the probability of getting 5 or higher in our data\n",
    "    * We go to 5, then we go to bottom y-value for 5, which is approximately around 0.4 in the y-axis, hence the probability of getting 5 or higher is 60%\n",
    "    \n",
    "* What is central tendency?\n",
    "    * we go to 0.5 in the y-axis, and then drag it along the x-axis, the point where this line hits the bar, we go down, in our case the central tendency is 5"
   ]
  },
  {
   "cell_type": "markdown",
   "metadata": {},
   "source": [
    "* Probability is c"
   ]
  }
 ],
 "metadata": {
  "kernelspec": {
   "display_name": "Python 3",
   "language": "python",
   "name": "python3"
  },
  "language_info": {
   "codemirror_mode": {
    "name": "ipython",
    "version": 3
   },
   "file_extension": ".py",
   "mimetype": "text/x-python",
   "name": "python",
   "nbconvert_exporter": "python",
   "pygments_lexer": "ipython3",
   "version": "3.7.6"
  }
 },
 "nbformat": 4,
 "nbformat_minor": 4
}
