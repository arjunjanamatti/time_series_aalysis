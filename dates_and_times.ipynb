{
 "cells": [
  {
   "cell_type": "code",
   "execution_count": 1,
   "metadata": {},
   "outputs": [],
   "source": [
    "import numpy as np\n",
    "import pandas as pd"
   ]
  },
  {
   "cell_type": "markdown",
   "metadata": {},
   "source": [
    "### Generating series of times"
   ]
  },
  {
   "cell_type": "code",
   "execution_count": 11,
   "metadata": {},
   "outputs": [
    {
     "data": {
      "text/plain": [
       "DatetimeIndex(['2020-01-01 09:00:00+05:30', '2020-01-02 09:00:00+05:30',\n",
       "               '2020-01-03 09:00:00+05:30', '2020-01-06 09:00:00+05:30',\n",
       "               '2020-01-07 09:00:00+05:30', '2020-01-08 09:00:00+05:30',\n",
       "               '2020-01-09 09:00:00+05:30', '2020-01-10 09:00:00+05:30',\n",
       "               '2020-01-13 09:00:00+05:30', '2020-01-14 09:00:00+05:30',\n",
       "               ...\n",
       "               '2020-12-17 09:00:00+05:30', '2020-12-18 09:00:00+05:30',\n",
       "               '2020-12-21 09:00:00+05:30', '2020-12-22 09:00:00+05:30',\n",
       "               '2020-12-23 09:00:00+05:30', '2020-12-24 09:00:00+05:30',\n",
       "               '2020-12-25 09:00:00+05:30', '2020-12-28 09:00:00+05:30',\n",
       "               '2020-12-29 09:00:00+05:30', '2020-12-30 09:00:00+05:30'],\n",
       "              dtype='datetime64[ns, Asia/Kolkata]', length=261, freq='B')"
      ]
     },
     "execution_count": 11,
     "metadata": {},
     "output_type": "execute_result"
    }
   ],
   "source": [
    "# freuency 'MS' stands for month start\n",
    "# frequency 'B' stands for business days, only weekdays will be considered\n",
    "time_range = pd.date_range(start= '2020 Jan 01 9:00',\n",
    "                           end = '2020 Dec 31',\n",
    "                           tz = 'Asia/Kolkata',\n",
    "                           freq = 'B',)\n",
    "time_range"
   ]
  },
  {
   "cell_type": "markdown",
   "metadata": {},
   "source": [
    "### Which of these formats DON'T work?\n",
    "#'2020 Jul 1', '7/1/2020', '1/7/2020', 'July 1, 2020', '2020-07-01'"
   ]
  },
  {
   "cell_type": "code",
   "execution_count": 17,
   "metadata": {},
   "outputs": [
    {
     "data": {
      "text/plain": [
       "DatetimeIndex(['2020-07-01 00:00:00+05:30', '2020-07-02 00:00:00+05:30',\n",
       "               '2020-07-03 00:00:00+05:30', '2020-07-06 00:00:00+05:30',\n",
       "               '2020-07-07 00:00:00+05:30', '2020-07-08 00:00:00+05:30',\n",
       "               '2020-07-09 00:00:00+05:30', '2020-07-10 00:00:00+05:30',\n",
       "               '2020-07-13 00:00:00+05:30', '2020-07-14 00:00:00+05:30'],\n",
       "              dtype='datetime64[ns, Asia/Kolkata]', freq='B')"
      ]
     },
     "execution_count": 17,
     "metadata": {},
     "output_type": "execute_result"
    }
   ],
   "source": [
    "time_range_check = pd.date_range(start= '2020 Jul 1',\n",
    "                                 periods = 10,\n",
    "                                 tz = 'Asia/Kolkata',\n",
    "                                 freq = 'B',)\n",
    "time_range_check"
   ]
  },
  {
   "cell_type": "code",
   "execution_count": 21,
   "metadata": {},
   "outputs": [
    {
     "data": {
      "text/plain": [
       "DatetimeIndex(['2020-01-30 00:00:00+05:30', '2020-01-31 00:00:00+05:30',\n",
       "               '2020-02-03 00:00:00+05:30', '2020-02-04 00:00:00+05:30',\n",
       "               '2020-02-05 00:00:00+05:30', '2020-02-06 00:00:00+05:30',\n",
       "               '2020-02-07 00:00:00+05:30', '2020-02-10 00:00:00+05:30',\n",
       "               '2020-02-11 00:00:00+05:30', '2020-02-12 00:00:00+05:30'],\n",
       "              dtype='datetime64[ns, Asia/Kolkata]', freq='B')"
      ]
     },
     "execution_count": 21,
     "metadata": {},
     "output_type": "execute_result"
    }
   ],
   "source": [
    "time_range_check = pd.date_range(start= '30/1/2020',\n",
    "                                 periods = 10,\n",
    "                                 tz = 'Asia/Kolkata',\n",
    "                                 freq = 'B',)\n",
    "time_range_check"
   ]
  },
  {
   "cell_type": "code",
   "execution_count": 22,
   "metadata": {},
   "outputs": [
    {
     "data": {
      "text/plain": [
       "DatetimeIndex(['2020-01-30 00:00:00+05:30', '2020-01-31 00:00:00+05:30',\n",
       "               '2020-02-03 00:00:00+05:30', '2020-02-04 00:00:00+05:30',\n",
       "               '2020-02-05 00:00:00+05:30', '2020-02-06 00:00:00+05:30',\n",
       "               '2020-02-07 00:00:00+05:30', '2020-02-10 00:00:00+05:30',\n",
       "               '2020-02-11 00:00:00+05:30', '2020-02-12 00:00:00+05:30'],\n",
       "              dtype='datetime64[ns, Asia/Kolkata]', freq='B')"
      ]
     },
     "execution_count": 22,
     "metadata": {},
     "output_type": "execute_result"
    }
   ],
   "source": [
    "time_range_check = pd.date_range(start= '1/30/2020',\n",
    "                                 periods = 10,\n",
    "                                 tz = 'Asia/Kolkata',\n",
    "                                 freq = 'B',)\n",
    "time_range_check"
   ]
  },
  {
   "cell_type": "code",
   "execution_count": 23,
   "metadata": {},
   "outputs": [
    {
     "data": {
      "text/plain": [
       "DatetimeIndex(['2020-07-01 00:00:00+05:30', '2020-07-02 00:00:00+05:30',\n",
       "               '2020-07-03 00:00:00+05:30', '2020-07-06 00:00:00+05:30',\n",
       "               '2020-07-07 00:00:00+05:30', '2020-07-08 00:00:00+05:30',\n",
       "               '2020-07-09 00:00:00+05:30', '2020-07-10 00:00:00+05:30',\n",
       "               '2020-07-13 00:00:00+05:30', '2020-07-14 00:00:00+05:30'],\n",
       "              dtype='datetime64[ns, Asia/Kolkata]', freq='B')"
      ]
     },
     "execution_count": 23,
     "metadata": {},
     "output_type": "execute_result"
    }
   ],
   "source": [
    "time_range_check = pd.date_range(start= 'July 1, 2020',\n",
    "                                 periods = 10,\n",
    "                                 tz = 'Asia/Kolkata',\n",
    "                                 freq = 'B',)\n",
    "time_range_check"
   ]
  },
  {
   "cell_type": "code",
   "execution_count": 24,
   "metadata": {},
   "outputs": [
    {
     "data": {
      "text/plain": [
       "DatetimeIndex(['2020-07-01 00:00:00+05:30', '2020-07-02 00:00:00+05:30',\n",
       "               '2020-07-03 00:00:00+05:30', '2020-07-06 00:00:00+05:30',\n",
       "               '2020-07-07 00:00:00+05:30', '2020-07-08 00:00:00+05:30',\n",
       "               '2020-07-09 00:00:00+05:30', '2020-07-10 00:00:00+05:30',\n",
       "               '2020-07-13 00:00:00+05:30', '2020-07-14 00:00:00+05:30'],\n",
       "              dtype='datetime64[ns, Asia/Kolkata]', freq='B')"
      ]
     },
     "execution_count": 24,
     "metadata": {},
     "output_type": "execute_result"
    }
   ],
   "source": [
    "time_range_check = pd.date_range(start= '2020-07-01',\n",
    "                                 periods = 10,\n",
    "                                 tz = 'Asia/Kolkata',\n",
    "                                 freq = 'B',)\n",
    "time_range_check"
   ]
  },
  {
   "cell_type": "markdown",
   "metadata": {},
   "source": [
    "### How much detail can you add?"
   ]
  },
  {
   "cell_type": "code",
   "execution_count": 41,
   "metadata": {},
   "outputs": [
    {
     "data": {
      "text/html": [
       "<div>\n",
       "<style scoped>\n",
       "    .dataframe tbody tr th:only-of-type {\n",
       "        vertical-align: middle;\n",
       "    }\n",
       "\n",
       "    .dataframe tbody tr th {\n",
       "        vertical-align: top;\n",
       "    }\n",
       "\n",
       "    .dataframe thead th {\n",
       "        text-align: right;\n",
       "    }\n",
       "</style>\n",
       "<table border=\"1\" class=\"dataframe\">\n",
       "  <thead>\n",
       "    <tr style=\"text-align: right;\">\n",
       "      <th></th>\n",
       "      <th>Dates</th>\n",
       "      <th>Day</th>\n",
       "      <th>week_of_the_year</th>\n",
       "      <th>day_of_the_week</th>\n",
       "    </tr>\n",
       "  </thead>\n",
       "  <tbody>\n",
       "    <tr>\n",
       "      <th>0</th>\n",
       "      <td>2020-01-01 09:00:00+05:30</td>\n",
       "      <td>Wednesday</td>\n",
       "      <td>1</td>\n",
       "      <td>3</td>\n",
       "    </tr>\n",
       "    <tr>\n",
       "      <th>1</th>\n",
       "      <td>2020-01-02 09:00:00+05:30</td>\n",
       "      <td>Thursday</td>\n",
       "      <td>1</td>\n",
       "      <td>4</td>\n",
       "    </tr>\n",
       "    <tr>\n",
       "      <th>2</th>\n",
       "      <td>2020-01-03 09:00:00+05:30</td>\n",
       "      <td>Friday</td>\n",
       "      <td>1</td>\n",
       "      <td>5</td>\n",
       "    </tr>\n",
       "    <tr>\n",
       "      <th>3</th>\n",
       "      <td>2020-01-06 09:00:00+05:30</td>\n",
       "      <td>Monday</td>\n",
       "      <td>2</td>\n",
       "      <td>1</td>\n",
       "    </tr>\n",
       "    <tr>\n",
       "      <th>4</th>\n",
       "      <td>2020-01-07 09:00:00+05:30</td>\n",
       "      <td>Tuesday</td>\n",
       "      <td>2</td>\n",
       "      <td>2</td>\n",
       "    </tr>\n",
       "    <tr>\n",
       "      <th>...</th>\n",
       "      <td>...</td>\n",
       "      <td>...</td>\n",
       "      <td>...</td>\n",
       "      <td>...</td>\n",
       "    </tr>\n",
       "    <tr>\n",
       "      <th>256</th>\n",
       "      <td>2020-12-24 09:00:00+05:30</td>\n",
       "      <td>Thursday</td>\n",
       "      <td>52</td>\n",
       "      <td>4</td>\n",
       "    </tr>\n",
       "    <tr>\n",
       "      <th>257</th>\n",
       "      <td>2020-12-25 09:00:00+05:30</td>\n",
       "      <td>Friday</td>\n",
       "      <td>52</td>\n",
       "      <td>5</td>\n",
       "    </tr>\n",
       "    <tr>\n",
       "      <th>258</th>\n",
       "      <td>2020-12-28 09:00:00+05:30</td>\n",
       "      <td>Monday</td>\n",
       "      <td>53</td>\n",
       "      <td>1</td>\n",
       "    </tr>\n",
       "    <tr>\n",
       "      <th>259</th>\n",
       "      <td>2020-12-29 09:00:00+05:30</td>\n",
       "      <td>Tuesday</td>\n",
       "      <td>53</td>\n",
       "      <td>2</td>\n",
       "    </tr>\n",
       "    <tr>\n",
       "      <th>260</th>\n",
       "      <td>2020-12-30 09:00:00+05:30</td>\n",
       "      <td>Wednesday</td>\n",
       "      <td>53</td>\n",
       "      <td>3</td>\n",
       "    </tr>\n",
       "  </tbody>\n",
       "</table>\n",
       "<p>261 rows × 4 columns</p>\n",
       "</div>"
      ],
      "text/plain": [
       "                        Dates        Day  week_of_the_year  day_of_the_week\n",
       "0   2020-01-01 09:00:00+05:30  Wednesday                 1                3\n",
       "1   2020-01-02 09:00:00+05:30   Thursday                 1                4\n",
       "2   2020-01-03 09:00:00+05:30     Friday                 1                5\n",
       "3   2020-01-06 09:00:00+05:30     Monday                 2                1\n",
       "4   2020-01-07 09:00:00+05:30    Tuesday                 2                2\n",
       "..                        ...        ...               ...              ...\n",
       "256 2020-12-24 09:00:00+05:30   Thursday                52                4\n",
       "257 2020-12-25 09:00:00+05:30     Friday                52                5\n",
       "258 2020-12-28 09:00:00+05:30     Monday                53                1\n",
       "259 2020-12-29 09:00:00+05:30    Tuesday                53                2\n",
       "260 2020-12-30 09:00:00+05:30  Wednesday                53                3\n",
       "\n",
       "[261 rows x 4 columns]"
      ]
     },
     "execution_count": 41,
     "metadata": {},
     "output_type": "execute_result"
    }
   ],
   "source": [
    "day_name_series = time_range.day_name()\n",
    "week_of_the_year = time_range.weekofyear\n",
    "yesr_calendar = pd.DataFrame()\n",
    "day_of_the_week = time_range.dayofweek\n",
    "yesr_calendar['Dates'] = time_range\n",
    "yesr_calendar['Day'] = day_name_series\n",
    "yesr_calendar['week_of_the_year'] = week_of_the_year\n",
    "yesr_calendar['day_of_the_week'] = day_of_the_week + 1\n",
    "yesr_calendar"
   ]
  },
  {
   "cell_type": "code",
   "execution_count": null,
   "metadata": {},
   "outputs": [],
   "source": []
  }
 ],
 "metadata": {
  "kernelspec": {
   "display_name": "Python 3",
   "language": "python",
   "name": "python3"
  },
  "language_info": {
   "codemirror_mode": {
    "name": "ipython",
    "version": 3
   },
   "file_extension": ".py",
   "mimetype": "text/x-python",
   "name": "python",
   "nbconvert_exporter": "python",
   "pygments_lexer": "ipython3",
   "version": "3.7.6"
  }
 },
 "nbformat": 4,
 "nbformat_minor": 4
}
