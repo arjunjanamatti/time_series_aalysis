{
 "cells": [
  {
   "cell_type": "code",
   "execution_count": 1,
   "metadata": {},
   "outputs": [],
   "source": [
    "import datetime\n",
    "import numpy as np\n",
    "import pandas as pd\n",
    "from yahoo_finance_api import YahooFinance as yf\n",
    "import matplotlib.pyplot as plt"
   ]
  },
  {
   "cell_type": "code",
   "execution_count": 2,
   "metadata": {},
   "outputs": [
    {
     "name": "stderr",
     "output_type": "stream",
     "text": [
      "/home/arjun/anaconda3/lib/python3.7/site-packages/yahoo_finance_api-0.0.1-py3.7.egg/yahoo_finance_api/__init__.py:73: FutureWarning: The pandas.np module is deprecated and will be removed from pandas in a future version. Import numpy directly instead\n"
     ]
    },
    {
     "name": "stdout",
     "output_type": "stream",
     "text": [
      "Shape of the dataframe:  (1849, 1)\n"
     ]
    },
    {
     "data": {
      "text/html": [
       "<div>\n",
       "<style scoped>\n",
       "    .dataframe tbody tr th:only-of-type {\n",
       "        vertical-align: middle;\n",
       "    }\n",
       "\n",
       "    .dataframe tbody tr th {\n",
       "        vertical-align: top;\n",
       "    }\n",
       "\n",
       "    .dataframe thead th {\n",
       "        text-align: right;\n",
       "    }\n",
       "</style>\n",
       "<table border=\"1\" class=\"dataframe\">\n",
       "  <thead>\n",
       "    <tr style=\"text-align: right;\">\n",
       "      <th></th>\n",
       "      <th>TCS.NS_close</th>\n",
       "    </tr>\n",
       "  </thead>\n",
       "  <tbody>\n",
       "    <tr>\n",
       "      <th>2020-10-08 09:15:00</th>\n",
       "      <td>2868.0</td>\n",
       "    </tr>\n",
       "    <tr>\n",
       "      <th>2020-10-08 09:16:00</th>\n",
       "      <td>2851.3</td>\n",
       "    </tr>\n",
       "    <tr>\n",
       "      <th>2020-10-08 09:17:00</th>\n",
       "      <td>2848.5</td>\n",
       "    </tr>\n",
       "    <tr>\n",
       "      <th>2020-10-08 09:18:00</th>\n",
       "      <td>2834.3</td>\n",
       "    </tr>\n",
       "    <tr>\n",
       "      <th>2020-10-08 09:19:00</th>\n",
       "      <td>2835.7</td>\n",
       "    </tr>\n",
       "  </tbody>\n",
       "</table>\n",
       "</div>"
      ],
      "text/plain": [
       "                     TCS.NS_close\n",
       "2020-10-08 09:15:00        2868.0\n",
       "2020-10-08 09:16:00        2851.3\n",
       "2020-10-08 09:17:00        2848.5\n",
       "2020-10-08 09:18:00        2834.3\n",
       "2020-10-08 09:19:00        2835.7"
      ]
     },
     "execution_count": 2,
     "metadata": {},
     "output_type": "execute_result"
    }
   ],
   "source": [
    "stock_symbol = 'TCS.NS'\n",
    "my_stock = pd.DataFrame()\n",
    "my_stock[stock_symbol+'_close'] = yf(ticker = stock_symbol, \n",
    "                            result_range='5d',\n",
    "                            interval = '1m',\n",
    "                            dropna = True).result['Close']\n",
    "\n",
    "print('Shape of the dataframe: ', my_stock.shape)\n",
    "my_stock.head()"
   ]
  },
  {
   "cell_type": "markdown",
   "metadata": {},
   "source": [
    "### Scaling the data"
   ]
  },
  {
   "cell_type": "code",
   "execution_count": 3,
   "metadata": {},
   "outputs": [],
   "source": [
    "from sklearn.preprocessing import MinMaxScaler"
   ]
  },
  {
   "cell_type": "code",
   "execution_count": 4,
   "metadata": {},
   "outputs": [
    {
     "data": {
      "text/plain": [
       "array([[0.8343887 ],\n",
       "       [0.67169995],\n",
       "       [0.6444228 ],\n",
       "       ...,\n",
       "       [0.27033609],\n",
       "       [0.23867511],\n",
       "       [0.26546517]])"
      ]
     },
     "execution_count": 4,
     "metadata": {},
     "output_type": "execute_result"
    }
   ],
   "source": [
    "scaler = MinMaxScaler(feature_range = (0,1))\n",
    "scaled_data = scaler.fit_transform(my_stock)\n",
    "scaled_data"
   ]
  },
  {
   "cell_type": "markdown",
   "metadata": {},
   "source": [
    "* Creating a data structure with 60 timesteps and 1 output"
   ]
  },
  {
   "cell_type": "code",
   "execution_count": 5,
   "metadata": {},
   "outputs": [],
   "source": [
    "X_train, y_train = [], []\n",
    "time_step = 60\n",
    "num_data_points = (len(scaled_data))\n",
    "for i in range(time_step, num_data_points):\n",
    "    X_train.append(scaled_data[i - time_step: i, 0])\n",
    "    y_train.append(scaled_data[i,0])\n",
    "X_train, y_train = np.array(X_train), np.array(y_train)"
   ]
  },
  {
   "cell_type": "code",
   "execution_count": 6,
   "metadata": {},
   "outputs": [
    {
     "name": "stdout",
     "output_type": "stream",
     "text": [
      "shape of training data before transformation:  (1789, 60)\n",
      "shape of training data after transformation:  (1789, 60, 1)\n"
     ]
    }
   ],
   "source": [
    "print('shape of training data before transformation: ', X_train.shape)\n",
    "X_train = np.reshape(a = X_train, newshape = (X_train.shape[0], X_train.shape[1], 1))\n",
    "print('shape of training data after transformation: ', X_train.shape)"
   ]
  },
  {
   "cell_type": "markdown",
   "metadata": {},
   "source": [
    "### Building RNN model"
   ]
  },
  {
   "cell_type": "code",
   "execution_count": 8,
   "metadata": {},
   "outputs": [],
   "source": [
    "from tensorflow.keras.models import Sequential\n",
    "from tensorflow.keras.layers import Dense, LSTM, Dropout"
   ]
  },
  {
   "cell_type": "code",
   "execution_count": 9,
   "metadata": {},
   "outputs": [
    {
     "name": "stdout",
     "output_type": "stream",
     "text": [
      "Model: \"sequential\"\n",
      "_________________________________________________________________\n",
      "Layer (type)                 Output Shape              Param #   \n",
      "=================================================================\n",
      "lstm (LSTM)                  (None, 60, 50)            10400     \n",
      "_________________________________________________________________\n",
      "dropout (Dropout)            (None, 60, 50)            0         \n",
      "_________________________________________________________________\n",
      "lstm_1 (LSTM)                (None, 60, 50)            20200     \n",
      "_________________________________________________________________\n",
      "dropout_1 (Dropout)          (None, 60, 50)            0         \n",
      "_________________________________________________________________\n",
      "lstm_2 (LSTM)                (None, 60, 50)            20200     \n",
      "_________________________________________________________________\n",
      "dropout_2 (Dropout)          (None, 60, 50)            0         \n",
      "_________________________________________________________________\n",
      "lstm_3 (LSTM)                (None, 60, 50)            20200     \n",
      "_________________________________________________________________\n",
      "dropout_3 (Dropout)          (None, 60, 50)            0         \n",
      "_________________________________________________________________\n",
      "dense (Dense)                (None, 60, 1)             51        \n",
      "=================================================================\n",
      "Total params: 71,051\n",
      "Trainable params: 71,051\n",
      "Non-trainable params: 0\n",
      "_________________________________________________________________\n"
     ]
    }
   ],
   "source": [
    "model = Sequential()\n",
    "\n",
    "# first lstm layer followed by dropout\n",
    "model.add(LSTM(units = 50, return_sequences = True, input_shape = (X_train.shape[1], 1)))\n",
    "model.add(Dropout(rate = 0.2))\n",
    "\n",
    "# second lstm layer\n",
    "model.add(LSTM(units = 50, return_sequences = True))\n",
    "model.add(Dropout(rate = 0.2))\n",
    "\n",
    "# third lstm layer\n",
    "model.add(LSTM(units = 50, return_sequences = True))\n",
    "model.add(Dropout(rate = 0.2))\n",
    "\n",
    "# fourth lstm layer\n",
    "model.add(LSTM(units = 50, return_sequences = True))\n",
    "model.add(Dropout(rate = 0.2))\n",
    "\n",
    "# output layer\n",
    "model.add(Dense(units = 1))\n",
    "\n",
    "model.summary()"
   ]
  },
  {
   "cell_type": "code",
   "execution_count": 10,
   "metadata": {},
   "outputs": [],
   "source": [
    "# compiling RNN\n",
    "model.compile(optimizer = 'adam',\n",
    "              loss = 'mean_squared_error')"
   ]
  },
  {
   "cell_type": "code",
   "execution_count": 11,
   "metadata": {},
   "outputs": [
    {
     "name": "stdout",
     "output_type": "stream",
     "text": [
      "Epoch 1/50\n",
      "56/56 [==============================] - 4s 63ms/step - loss: 0.0524\n",
      "Epoch 2/50\n",
      "56/56 [==============================] - 4s 63ms/step - loss: 0.0223\n",
      "Epoch 3/50\n",
      "56/56 [==============================] - 4s 63ms/step - loss: 0.0178\n",
      "Epoch 4/50\n",
      "56/56 [==============================] - 4s 64ms/step - loss: 0.0161\n",
      "Epoch 5/50\n",
      "56/56 [==============================] - 4s 63ms/step - loss: 0.0145\n",
      "Epoch 6/50\n",
      "56/56 [==============================] - 4s 65ms/step - loss: 0.0142\n",
      "Epoch 7/50\n",
      "56/56 [==============================] - 4s 64ms/step - loss: 0.0132\n",
      "Epoch 8/50\n",
      "56/56 [==============================] - 4s 64ms/step - loss: 0.0127\n",
      "Epoch 9/50\n",
      "56/56 [==============================] - 4s 65ms/step - loss: 0.0123\n",
      "Epoch 10/50\n",
      "56/56 [==============================] - 4s 71ms/step - loss: 0.0117\n",
      "Epoch 11/50\n",
      "56/56 [==============================] - 4s 71ms/step - loss: 0.0116\n",
      "Epoch 12/50\n",
      "56/56 [==============================] - 4s 72ms/step - loss: 0.0116\n",
      "Epoch 13/50\n",
      "56/56 [==============================] - 4s 70ms/step - loss: 0.0109\n",
      "Epoch 14/50\n",
      "56/56 [==============================] - 4s 71ms/step - loss: 0.0108\n",
      "Epoch 15/50\n",
      "56/56 [==============================] - 4s 71ms/step - loss: 0.0106\n",
      "Epoch 16/50\n",
      "56/56 [==============================] - 4s 71ms/step - loss: 0.0104\n",
      "Epoch 17/50\n",
      "56/56 [==============================] - 4s 72ms/step - loss: 0.0105\n",
      "Epoch 18/50\n",
      "56/56 [==============================] - 4s 71ms/step - loss: 0.0102\n",
      "Epoch 19/50\n",
      "56/56 [==============================] - 4s 71ms/step - loss: 0.0101\n",
      "Epoch 20/50\n",
      "56/56 [==============================] - 4s 71ms/step - loss: 0.0099\n",
      "Epoch 21/50\n",
      "56/56 [==============================] - 4s 71ms/step - loss: 0.0099\n",
      "Epoch 22/50\n",
      "56/56 [==============================] - 4s 71ms/step - loss: 0.0098\n",
      "Epoch 23/50\n",
      "56/56 [==============================] - 4s 72ms/step - loss: 0.0097\n",
      "Epoch 24/50\n",
      "56/56 [==============================] - 4s 72ms/step - loss: 0.0098\n",
      "Epoch 25/50\n",
      "56/56 [==============================] - 4s 78ms/step - loss: 0.0097\n",
      "Epoch 26/50\n",
      "56/56 [==============================] - 4s 73ms/step - loss: 0.0101\n",
      "Epoch 27/50\n",
      "56/56 [==============================] - 4s 71ms/step - loss: 0.0096\n",
      "Epoch 28/50\n",
      "56/56 [==============================] - 4s 74ms/step - loss: 0.0095\n",
      "Epoch 29/50\n",
      "56/56 [==============================] - 4s 72ms/step - loss: 0.0094\n",
      "Epoch 30/50\n",
      "56/56 [==============================] - 4s 73ms/step - loss: 0.0095\n",
      "Epoch 31/50\n",
      "56/56 [==============================] - 4s 73ms/step - loss: 0.0094\n",
      "Epoch 32/50\n",
      "56/56 [==============================] - 4s 73ms/step - loss: 0.0092\n",
      "Epoch 33/50\n",
      "56/56 [==============================] - 4s 73ms/step - loss: 0.0093\n",
      "Epoch 34/50\n",
      "56/56 [==============================] - 4s 73ms/step - loss: 0.0092\n",
      "Epoch 35/50\n",
      "56/56 [==============================] - 4s 73ms/step - loss: 0.0093\n",
      "Epoch 36/50\n",
      "56/56 [==============================] - 4s 73ms/step - loss: 0.0092\n",
      "Epoch 37/50\n",
      "56/56 [==============================] - 4s 73ms/step - loss: 0.0091\n",
      "Epoch 38/50\n",
      "56/56 [==============================] - 4s 73ms/step - loss: 0.0092\n",
      "Epoch 39/50\n",
      "56/56 [==============================] - 4s 74ms/step - loss: 0.0092\n",
      "Epoch 40/50\n",
      "56/56 [==============================] - 4s 73ms/step - loss: 0.0092\n",
      "Epoch 41/50\n",
      "56/56 [==============================] - 4s 73ms/step - loss: 0.0092\n",
      "Epoch 42/50\n",
      "56/56 [==============================] - 4s 73ms/step - loss: 0.0090\n",
      "Epoch 43/50\n",
      "56/56 [==============================] - 4s 74ms/step - loss: 0.0092\n",
      "Epoch 44/50\n",
      "56/56 [==============================] - 4s 75ms/step - loss: 0.0093\n",
      "Epoch 45/50\n",
      "56/56 [==============================] - 4s 74ms/step - loss: 0.0092\n",
      "Epoch 46/50\n",
      "56/56 [==============================] - 4s 74ms/step - loss: 0.0090\n",
      "Epoch 47/50\n",
      "56/56 [==============================] - 4s 73ms/step - loss: 0.0090\n",
      "Epoch 48/50\n",
      "56/56 [==============================] - 4s 78ms/step - loss: 0.0090\n",
      "Epoch 49/50\n",
      "56/56 [==============================] - 4s 75ms/step - loss: 0.0090\n",
      "Epoch 50/50\n",
      "56/56 [==============================] - 4s 74ms/step - loss: 0.0091\n"
     ]
    },
    {
     "data": {
      "text/plain": [
       "<tensorflow.python.keras.callbacks.History at 0x7f0c546b38d0>"
      ]
     },
     "execution_count": 11,
     "metadata": {},
     "output_type": "execute_result"
    }
   ],
   "source": [
    "model.fit(x = X_train, \n",
    "          y = y_train , \n",
    "          epochs = 50, \n",
    "          batch_size = 32)"
   ]
  },
  {
   "cell_type": "code",
   "execution_count": 12,
   "metadata": {},
   "outputs": [],
   "source": [
    "X_test = scaled_data[-12:,0]"
   ]
  },
  {
   "cell_type": "code",
   "execution_count": 14,
   "metadata": {},
   "outputs": [
    {
     "name": "stdout",
     "output_type": "stream",
     "text": [
      "Shape of X_test before transformation:  (12,)\n",
      "Shape of X_test after transformation:  (1, 12, 1)\n"
     ]
    }
   ],
   "source": [
    "print('Shape of X_test before transformation: ', X_test.shape)\n",
    "X_test = np.reshape(X_test, newshape = (1, X_test.shape[0],1))\n",
    "print('Shape of X_test after transformation: ', X_test.shape)"
   ]
  },
  {
   "cell_type": "code",
   "execution_count": 17,
   "metadata": {},
   "outputs": [
    {
     "data": {
      "image/png": "[encoded data removed]",
      "text/plain": [
       "<Figure size 432x288 with 1 Axes>"
      ]
     },
     "metadata": {
      "needs_background": "light"
     },
     "output_type": "display_data"
    }
   ],
   "source": [
    "plt.plot(np.hstack(model.predict(X_test)), color = 'red')\n",
    "plt.plot(np.hstack(X_test), color = 'green')\n",
    "plt.legend(['Predicted', 'Actual'])\n",
    "plt.title('Actual vs Predicted')\n",
    "plt.show()"
   ]
  },
  {
   "cell_type": "code",
   "execution_count": null,
   "metadata": {},
   "outputs": [],
   "source": []
  }
 ],
 "metadata": {
  "kernelspec": {
   "display_name": "Python 3",
   "language": "python",
   "name": "python3"
  },
  "language_info": {
   "codemirror_mode": {
    "name": "ipython",
    "version": 3
   },
   "file_extension": ".py",
   "mimetype": "text/x-python",
   "name": "python",
   "nbconvert_exporter": "python",
   "pygments_lexer": "ipython3",
   "version": "3.7.6"
  }
 },
 "nbformat": 4,
 "nbformat_minor": 4
}
